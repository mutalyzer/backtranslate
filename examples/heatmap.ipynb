{
 "cells": [
  {
   "cell_type": "markdown",
   "metadata": {},
   "source": [
    "# Back translation"
   ]
  },
  {
   "cell_type": "code",
   "execution_count": 1,
   "metadata": {
    "collapsed": false
   },
   "outputs": [
    {
     "name": "stdout",
     "output_type": "stream",
     "text": [
      "Populating the interactive namespace from numpy and matplotlib\n"
     ]
    }
   ],
   "source": [
    "%pylab inline"
   ]
  },
  {
   "cell_type": "code",
   "execution_count": 2,
   "metadata": {
    "collapsed": false
   },
   "outputs": [],
   "source": [
    "from collections import defaultdict\n",
    "\n",
    "from backtranslate import BackTranslate\n",
    "from backtranslate.util import protein_letters"
   ]
  },
  {
   "cell_type": "markdown",
   "metadata": {},
   "source": [
    "Create a reverse translation class instance."
   ]
  },
  {
   "cell_type": "code",
   "execution_count": 3,
   "metadata": {
    "collapsed": false
   },
   "outputs": [],
   "source": [
    "bt = BackTranslate()"
   ]
  },
  {
   "cell_type": "markdown",
   "metadata": {},
   "source": [
    "For each pair of amino acids, calculate the number of one-nucleotide substitutions that transform one amino acid into the other."
   ]
  },
  {
   "cell_type": "code",
   "execution_count": 5,
   "metadata": {
    "collapsed": false
   },
   "outputs": [],
   "source": [
    "table = []\n",
    "for i in protein_letters:\n",
    "    table.append([])\n",
    "    for j in protein_letters:\n",
    "        s = bt.without_dna(i, j)\n",
    "        table[-1].append(int(sum(list(map(len, s.values())))))"
   ]
  },
  {
   "cell_type": "markdown",
   "metadata": {},
   "source": [
    "Visualise the resutling matrix."
   ]
  },
  {
   "cell_type": "code",
   "execution_count": 6,
   "metadata": {
    "collapsed": false
   },
   "outputs": [
    {
     "data": {
      "image/png": "[encoded data removed]",
      "text/plain": [
       "<Figure size 432x288 with 2 Axes>"
      ]
     },
     "metadata": {
      "needs_background": "light"
     },
     "output_type": "display_data"
    }
   ],
   "source": [
    "imshow(table, interpolation='nearest')\n",
    "xticks(range(21), protein_letters)\n",
    "yticks(range(21), protein_letters)\n",
    "set_cmap('cool')\n",
    "colorbar();"
   ]
  },
  {
   "cell_type": "markdown",
   "metadata": {},
   "source": [
    "Visualise the distribution of values in the matrix."
   ]
  },
  {
   "cell_type": "code",
   "execution_count": 7,
   "metadata": {
    "collapsed": false
   },
   "outputs": [
    {
     "data": {
      "image/png": "[encoded data removed]",
      "text/plain": [
       "<Figure size 432x288 with 1 Axes>"
      ]
     },
     "metadata": {
      "needs_background": "light"
     },
     "output_type": "display_data"
    }
   ],
   "source": [
    "d = defaultdict(int)\n",
    "\n",
    "for row in table:\n",
    "    for element in row:\n",
    "        d[element] += 1\n",
    "\n",
    "ind = sorted(d.keys())\n",
    "values = []\n",
    "for i in ind:\n",
    "     values.append(d[i])\n",
    "        \n",
    "bar(ind, values);"
   ]
  },
  {
   "cell_type": "markdown",
   "metadata": {},
   "source": [
    "Print some summaries."
   ]
  },
  {
   "cell_type": "code",
   "execution_count": 8,
   "metadata": {
    "collapsed": false
   },
   "outputs": [
    {
     "name": "stdout",
     "output_type": "stream",
     "text": [
      "\n",
      "441 substitutions in total.\n",
      "252 impossible substitutions (57.14%).\n",
      "130 perfect substitutions (29.48%).\n",
      " 59 imperfect substitutions (13.38%).\n",
      "\n",
      "189 possible substitutions, of which 68.78% is perfect and 31.22% is imperfect.\n"
     ]
    }
   ],
   "source": [
    "total = 21 ** 2\n",
    "total_p = total / 100\n",
    "imperfect = sum(values[2:])\n",
    "\n",
    "print('\\n{} substitutions in total.'.format(total))\n",
    "print('{:3} impossible substitutions ({:.2f}%).'.format(values[0], values[0] / total_p))\n",
    "print('{:3} perfect substitutions ({:.2f}%).'.format(values[1], values[1] / total_p))\n",
    "print('{:3} imperfect substitutions ({:.2f}%).'.format(imperfect, imperfect / total_p))\n",
    "\n",
    "possible = sum(values[1:])\n",
    "possible_p = possible / 100\n",
    "print('\\n{:3} possible substitutions, of which {:.2f}% is perfect and {:.2f}% is imperfect.'.format(\n",
    "    possible, values[1] / possible_p, imperfect / possible_p))"
   ]
  }
 ],
 "metadata": {
  "kernelspec": {
   "display_name": "backtranslate",
   "language": "python",
   "name": "backtranslate"
  },
  "language_info": {
   "codemirror_mode": {
    "name": "ipython",
    "version": 3
   },
   "file_extension": ".py",
   "mimetype": "text/x-python",
   "name": "python",
   "nbconvert_exporter": "python",
   "pygments_lexer": "ipython3",
   "version": "3.5.3"
  }
 },
 "nbformat": 4,
 "nbformat_minor": 0
}
