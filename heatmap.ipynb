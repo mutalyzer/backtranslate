{
 "metadata": {
  "name": ""
 },
 "nbformat": 3,
 "nbformat_minor": 0,
 "worksheets": [
  {
   "cells": [
    {
     "cell_type": "heading",
     "level": 1,
     "metadata": {},
     "source": [
      "Back translation"
     ]
    },
    {
     "cell_type": "code",
     "collapsed": false,
     "input": [
      "%pylab inline"
     ],
     "language": "python",
     "metadata": {},
     "outputs": [
      {
       "output_type": "stream",
       "stream": "stdout",
       "text": [
        "Populating the interactive namespace from numpy and matplotlib\n"
       ]
      }
     ],
     "prompt_number": 2
    },
    {
     "cell_type": "code",
     "collapsed": false,
     "input": [
      "from collections import defaultdict\n",
      "\n",
      "from backtranslate.backtranslate import *"
     ],
     "language": "python",
     "metadata": {},
     "outputs": [],
     "prompt_number": 7
    },
    {
     "cell_type": "markdown",
     "metadata": {},
     "source": [
      "Create the reverse translation table."
     ]
    },
    {
     "cell_type": "code",
     "collapsed": false,
     "input": [
      "back_table = reverse_translation_table(1)"
     ],
     "language": "python",
     "metadata": {},
     "outputs": [],
     "prompt_number": 4
    },
    {
     "cell_type": "markdown",
     "metadata": {},
     "source": [
      "For each pair of amino acids, calculate the number of one-nucleotide substitutions that transform one amino acid into the other."
     ]
    },
    {
     "cell_type": "code",
     "collapsed": false,
     "input": [
      "table = []\n",
      "\n",
      "for i in back_table:\n",
      "    table.append([])\n",
      "    for j in back_table:\n",
      "        s = one_subst_without_dna(back_table, i, j)\n",
      "        table[-1].append(int(sum(map(len, s.values()))))"
     ],
     "language": "python",
     "metadata": {},
     "outputs": [],
     "prompt_number": 15
    },
    {
     "cell_type": "markdown",
     "metadata": {},
     "source": [
      "Visualise the resutling matrix."
     ]
    },
    {
     "cell_type": "code",
     "collapsed": false,
     "input": [
      "imshow(table, interpolation='nearest')\n",
      "xticks(range(21), back_table.keys())\n",
      "yticks(range(21), back_table.keys());"
     ],
     "language": "python",
     "metadata": {},
     "outputs": [
      {
       "metadata": {},
       "output_type": "display_data",
       "png": "[encoded data removed]",
       "text": [
        "<matplotlib.figure.Figure at 0x7ffa310ac910>"
       ]
      }
     ],
     "prompt_number": 6
    },
    {
     "cell_type": "markdown",
     "metadata": {},
     "source": [
      "Visualise the distribution of values in the matrix."
     ]
    },
    {
     "cell_type": "code",
     "collapsed": false,
     "input": [
      "d = defaultdict(int)\n",
      "\n",
      "for row in table:\n",
      "    for element in row:\n",
      "        d[element] += 1\n",
      "\n",
      "ind = sorted(d.keys())\n",
      "values = []\n",
      "for i in ind:\n",
      "     values.append(d[i])\n",
      "        \n",
      "bar(ind, values);"
     ],
     "language": "python",
     "metadata": {},
     "outputs": [
      {
       "metadata": {},
       "output_type": "display_data",
       "png": "[encoded data removed]",
       "text": [
        "<matplotlib.figure.Figure at 0x7ffa30751b10>"
       ]
      }
     ],
     "prompt_number": 14
    }
   ],
   "metadata": {}
  }
 ]
}