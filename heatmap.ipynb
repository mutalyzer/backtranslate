{
 "metadata": {
  "name": ""
 },
 "nbformat": 3,
 "nbformat_minor": 0,
 "worksheets": [
  {
   "cells": [
    {
     "cell_type": "code",
     "collapsed": false,
     "input": [
      "%pylab inline"
     ],
     "language": "python",
     "metadata": {},
     "outputs": [
      {
       "output_type": "stream",
       "stream": "stdout",
       "text": [
        "Populating the interactive namespace from numpy and matplotlib\n"
       ]
      }
     ],
     "prompt_number": 17
    },
    {
     "cell_type": "code",
     "collapsed": false,
     "input": [
      "from backtranslate.backtranslate import *"
     ],
     "language": "python",
     "metadata": {},
     "outputs": [],
     "prompt_number": 18
    },
    {
     "cell_type": "code",
     "collapsed": false,
     "input": [
      "back_table = reverse_translation_table(1)"
     ],
     "language": "python",
     "metadata": {},
     "outputs": [],
     "prompt_number": 43
    },
    {
     "cell_type": "code",
     "collapsed": false,
     "input": [
      "table = []\n",
      "\n",
      "for i in back_table:\n",
      "    table.append([])\n",
      "    for j in back_table:\n",
      "        s = one_subst_without_dna(back_table, i, j)\n",
      "        table[-1].append(int(sum(map(len, s.values()))))\n",
      "\n",
      "for i in table:\n",
      "    print i"
     ],
     "language": "python",
     "metadata": {},
     "outputs": [
      {
       "output_type": "stream",
       "stream": "stdout",
       "text": [
        "[4, 0, 1, 1, 1, 0, 0, 0, 0, 0, 0, 0, 0, 0, 1, 1, 0, 1, 0, 1, 0]\n",
        "[0, 2, 0, 0, 1, 1, 0, 0, 0, 1, 0, 0, 0, 0, 0, 2, 1, 0, 1, 0, 1]\n",
        "[1, 0, 2, 2, 1, 0, 0, 0, 1, 1, 0, 0, 0, 1, 0, 0, 0, 0, 0, 1, 0]\n",
        "[1, 0, 2, 2, 1, 0, 0, 1, 0, 0, 0, 0, 1, 0, 0, 0, 0, 0, 0, 1, 1]\n",
        "[1, 1, 1, 1, 4, 0, 0, 0, 0, 1, 0, 0, 0, 0, 0, 1, 2, 0, 1, 1, 0]\n",
        "[0, 1, 0, 0, 0, 2, 1, 0, 0, 0, 0, 3, 0, 0, 0, 1, 0, 0, 0, 1, 1]\n",
        "[0, 0, 0, 0, 0, 1, 3, 0, 1, 0, 1, 2, 1, 0, 0, 1, 1, 1, 0, 1, 0]\n",
        "[0, 0, 0, 1, 0, 0, 0, 2, 0, 0, 0, 1, 1, 2, 1, 0, 1, 0, 0, 0, 1]\n",
        "[0, 0, 1, 0, 0, 0, 1, 0, 2, 1, 1, 0, 2, 1, 0, 0, 1, 1, 0, 0, 0]\n",
        "[0, 2, 1, 0, 1, 0, 0, 0, 1, 4, 0, 1, 0, 1, 0, 1, 2, 0, 2, 0, 2]\n",
        "[0, 0, 0, 0, 0, 0, 3, 0, 1, 0, 0, 2, 0, 0, 0, 0, 1, 1, 0, 1, 0]\n",
        "[0, 0, 0, 0, 0, 3, 1, 1, 0, 2, 1, 6, 0, 1, 1, 1, 1, 0, 1, 1, 0]\n",
        "[0, 0, 0, 1, 0, 0, 1, 1, 2, 0, 0, 0, 2, 0, 0, 1, 0, 1, 0, 0, 1]\n",
        "[0, 0, 1, 0, 0, 0, 0, 2, 1, 1, 0, 1, 0, 2, 1, 0, 1, 0, 0, 0, 0]\n",
        "[1, 0, 0, 0, 0, 0, 0, 1, 0, 0, 0, 1, 0, 1, 4, 1, 1, 1, 0, 0, 0]\n",
        "[1, 2, 0, 0, 1, 1, 1, 0, 0, 2, 0, 1, 1, 0, 1, 4, 3, 2, 1, 0, 1]\n",
        "[0, 1, 0, 0, 1, 0, 1, 1, 1, 1, 1, 1, 0, 1, 1, 3, 6, 1, 1, 0, 0]\n",
        "[1, 0, 0, 0, 0, 0, 1, 0, 1, 0, 1, 0, 1, 0, 1, 2, 1, 4, 0, 0, 0]\n",
        "[0, 2, 0, 0, 1, 0, 0, 0, 0, 2, 0, 1, 0, 0, 0, 1, 2, 0, 0, 0, 0]\n",
        "[1, 0, 1, 1, 1, 1, 1, 0, 0, 0, 1, 2, 0, 0, 0, 0, 0, 0, 0, 4, 0]\n",
        "[0, 1, 0, 1, 0, 1, 0, 1, 0, 2, 0, 0, 1, 0, 0, 1, 0, 0, 0, 0, 2]\n"
       ]
      }
     ],
     "prompt_number": 44
    },
    {
     "cell_type": "code",
     "collapsed": false,
     "input": [
      "imshow(table, interpolation='nearest', shape=(500, 500))\n",
      "xticks(range(21), back_table.keys())\n",
      "yticks(arange(21), back_table.keys());"
     ],
     "language": "python",
     "metadata": {},
     "outputs": [
      {
       "metadata": {},
       "output_type": "display_data",
       "png": "[encoded data removed]",
       "text": [
        "<matplotlib.figure.Figure at 0x7f048cc1bc50>"
       ]
      }
     ],
     "prompt_number": 72
    }
   ],
   "metadata": {}
  }
 ]
}