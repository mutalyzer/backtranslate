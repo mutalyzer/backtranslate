{
 "metadata": {
  "name": "",
  "signature": "sha256:5c6218c5ec6a3e2ec596e3f048511ebdf95dafb4b32d6e565ef679ef5116f588"
 },
 "nbformat": 3,
 "nbformat_minor": 0,
 "worksheets": [
  {
   "cells": [
    {
     "cell_type": "heading",
     "level": 1,
     "metadata": {},
     "source": [
      "Back translation"
     ]
    },
    {
     "cell_type": "code",
     "collapsed": false,
     "input": [
      "from __future__ import absolute_import, division, print_function, unicode_literals\n",
      "from future.builtins import str, zip\n",
      "\n",
      "%pylab inline"
     ],
     "language": "python",
     "metadata": {},
     "outputs": [
      {
       "output_type": "stream",
       "stream": "stdout",
       "text": [
        "Populating the interactive namespace from numpy and matplotlib\n"
       ]
      }
     ],
     "prompt_number": 1
    },
    {
     "cell_type": "code",
     "collapsed": false,
     "input": [
      "from collections import defaultdict\n",
      "\n",
      "from backtranslate.backtranslate import BackTranslate\n",
      "from backtranslate.util import protein_letters"
     ],
     "language": "python",
     "metadata": {},
     "outputs": [],
     "prompt_number": 2
    },
    {
     "cell_type": "markdown",
     "metadata": {},
     "source": [
      "Create a reverse translation class instance."
     ]
    },
    {
     "cell_type": "code",
     "collapsed": false,
     "input": [
      "bt = BackTranslate()"
     ],
     "language": "python",
     "metadata": {},
     "outputs": [],
     "prompt_number": 3
    },
    {
     "cell_type": "markdown",
     "metadata": {},
     "source": [
      "For each pair of amino acids, calculate the number of one-nucleotide substitutions that transform one amino acid into the other."
     ]
    },
    {
     "cell_type": "code",
     "collapsed": false,
     "input": [
      "table = []\n",
      "for i in protein_letters:\n",
      "    table.append([])\n",
      "    for j in protein_letters:\n",
      "        s = bt.without_dna(i, j)\n",
      "        table[-1].append(int(sum(map(len, s.values()))))"
     ],
     "language": "python",
     "metadata": {},
     "outputs": [],
     "prompt_number": 4
    },
    {
     "cell_type": "markdown",
     "metadata": {},
     "source": [
      "Visualise the resutling matrix."
     ]
    },
    {
     "cell_type": "code",
     "collapsed": false,
     "input": [
      "imshow(table, interpolation='nearest')\n",
      "xticks(range(21), protein_letters)\n",
      "yticks(range(21), protein_letters)\n",
      "set_cmap('cool')\n",
      "colorbar();"
     ],
     "language": "python",
     "metadata": {},
     "outputs": [
      {
       "metadata": {},
       "output_type": "display_data",
       "png": "[encoded data removed]",
       "text": [
        "<matplotlib.figure.Figure at 0x7f1472602c90>"
       ]
      }
     ],
     "prompt_number": 5
    },
    {
     "cell_type": "markdown",
     "metadata": {},
     "source": [
      "Visualise the distribution of values in the matrix."
     ]
    },
    {
     "cell_type": "code",
     "collapsed": false,
     "input": [
      "d = defaultdict(int)\n",
      "\n",
      "for row in table:\n",
      "    for element in row:\n",
      "        d[element] += 1\n",
      "\n",
      "ind = sorted(d.keys())\n",
      "values = []\n",
      "for i in ind:\n",
      "     values.append(d[i])\n",
      "        \n",
      "bar(ind, values);"
     ],
     "language": "python",
     "metadata": {},
     "outputs": [
      {
       "metadata": {},
       "output_type": "display_data",
       "png": "[encoded data removed]",
       "text": [
        "<matplotlib.figure.Figure at 0x7f14721e9650>"
       ]
      }
     ],
     "prompt_number": 6
    },
    {
     "cell_type": "markdown",
     "metadata": {},
     "source": [
      "Print some summaries."
     ]
    },
    {
     "cell_type": "code",
     "collapsed": false,
     "input": [
      "total = 21 ** 2\n",
      "total_p = total / 100\n",
      "imperfect = sum(values[2:])\n",
      "\n",
      "print('\\n{} substitutions in total.'.format(total))\n",
      "print('{:3} impossible substitutions ({:.2f}%).'.format(values[0], values[0] / total_p))\n",
      "print('{:3} perfect substitutions ({:.2f}%).'.format(values[1], values[1] / total_p))\n",
      "print('{:3} imperfect substitutions ({:.2f}%).'.format(imperfect, imperfect / total_p))\n",
      "\n",
      "possible = sum(values[1:])\n",
      "possible_p = possible / 100\n",
      "print('\\n{:3} possible substitutions, of which {:.2f}% is perfect and {:.2f}% is imperfect.'.format(\n",
      "    possible, values[1] / possible_p, imperfect / possible_p))"
     ],
     "language": "python",
     "metadata": {},
     "outputs": [
      {
       "output_type": "stream",
       "stream": "stdout",
       "text": [
        "\n",
        "441 substitutions in total.\n",
        "252 impossible substitutions (57.14%).\n",
        "130 perfect substitutions (29.48%).\n",
        " 59 imperfect substitutions (13.38%).\n",
        "\n",
        "189 possible substitutions, of which 68.78% is perfect and 31.22% is imperfect.\n"
       ]
      }
     ],
     "prompt_number": 11
    }
   ],
   "metadata": {}
  }
 ]
}