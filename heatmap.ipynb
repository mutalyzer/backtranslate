{
 "metadata": {
  "name": ""
 },
 "nbformat": 3,
 "nbformat_minor": 0,
 "worksheets": [
  {
   "cells": [
    {
     "cell_type": "heading",
     "level": 1,
     "metadata": {},
     "source": [
      "Back translation"
     ]
    },
    {
     "cell_type": "code",
     "collapsed": false,
     "input": [
      "%pylab inline"
     ],
     "language": "python",
     "metadata": {},
     "outputs": [
      {
       "output_type": "stream",
       "stream": "stdout",
       "text": [
        "Populating the interactive namespace from numpy and matplotlib\n"
       ]
      },
      {
       "output_type": "stream",
       "stream": "stderr",
       "text": [
        "WARNING: pylab import has clobbered these variables: ['table']\n",
        "`%pylab --no-import-all` prevents importing * from pylab and numpy\n"
       ]
      }
     ],
     "prompt_number": 9
    },
    {
     "cell_type": "code",
     "collapsed": false,
     "input": [
      "from collections import defaultdict\n",
      "\n",
      "from backtranslate.backtranslate import BackTranslate\n",
      "from Bio.Data import IUPACData"
     ],
     "language": "python",
     "metadata": {},
     "outputs": [],
     "prompt_number": 10
    },
    {
     "cell_type": "markdown",
     "metadata": {},
     "source": [
      "Create a reverse translation class instance."
     ]
    },
    {
     "cell_type": "code",
     "collapsed": false,
     "input": [
      "bt = BackTranslate()"
     ],
     "language": "python",
     "metadata": {},
     "outputs": [],
     "prompt_number": 11
    },
    {
     "cell_type": "markdown",
     "metadata": {},
     "source": [
      "For each pair of amino acids, calculate the number of one-nucleotide substitutions that transform one amino acid into the other."
     ]
    },
    {
     "cell_type": "code",
     "collapsed": false,
     "input": [
      "protein_letters = IUPACData.protein_letters + '*'\n",
      "\n",
      "table = []\n",
      "for i in protein_letters:\n",
      "    table.append([])\n",
      "    for j in protein_letters:\n",
      "        s = bt.without_dna(i, j)\n",
      "        table[-1].append(int(sum(map(len, s.values()))))"
     ],
     "language": "python",
     "metadata": {},
     "outputs": [],
     "prompt_number": 12
    },
    {
     "cell_type": "markdown",
     "metadata": {},
     "source": [
      "Visualise the resutling matrix."
     ]
    },
    {
     "cell_type": "code",
     "collapsed": false,
     "input": [
      "imshow(table, interpolation='nearest')\n",
      "xticks(range(21), protein_letters)\n",
      "yticks(range(21), protein_letters)\n",
      "set_cmap('cool')\n",
      "colorbar();"
     ],
     "language": "python",
     "metadata": {},
     "outputs": [
      {
       "metadata": {},
       "output_type": "display_data",
       "png": "[encoded data removed]",
       "text": [
        "<matplotlib.figure.Figure at 0x7f7b2d5a0b50>"
       ]
      }
     ],
     "prompt_number": 13
    },
    {
     "cell_type": "markdown",
     "metadata": {},
     "source": [
      "Visualise the distribution of values in the matrix."
     ]
    },
    {
     "cell_type": "code",
     "collapsed": false,
     "input": [
      "d = defaultdict(int)\n",
      "\n",
      "for row in table:\n",
      "    for element in row:\n",
      "        d[element] += 1\n",
      "\n",
      "ind = sorted(d.keys())\n",
      "values = []\n",
      "for i in ind:\n",
      "     values.append(d[i])\n",
      "        \n",
      "bar(ind, values);"
     ],
     "language": "python",
     "metadata": {},
     "outputs": [
      {
       "metadata": {},
       "output_type": "display_data",
       "png": "[encoded data removed]",
       "text": [
        "<matplotlib.figure.Figure at 0x7f7b2d91b7d0>"
       ]
      }
     ],
     "prompt_number": 14
    }
   ],
   "metadata": {}
  }
 ]
}